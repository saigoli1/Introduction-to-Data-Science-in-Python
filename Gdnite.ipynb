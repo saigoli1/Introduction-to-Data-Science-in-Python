{
  "cells": [
    {
      "metadata": {
        "trusted": true
      },
      "cell_type": "code",
      "source": "import requests\nmy_url='https://v3.exchangerate-api.com/bulk/33b9fa8b97cfd17bf70c03c0/USD'\n#response=requests.get(my_url)\n#data = response.json()\n#data['rates']['INR']\n\ndef get_INR():\n    response=requests.get(my_url)\n    data = response.json()\n    return data['rates']['INR']\n\nimport smtplib\n#PASSWORD=input('Enter password') or \nFrom,PASSWORD='minusdegreec@gmail.com','pass.1111'\n\nserver=smtplib.SMTP_SSL('smtp.gmail.com',465)\nserver.login('minusdegreec@gmail.com',PASSWORD)\n\ndef sendmail():\n    #To=input(\"enter to email address\") or \n    To='minusdegreec@gmail.com'\n    message=\"GN ..INR is \"+str(get_INR())\n    server.sendmail(From,To,message)\n\n\nimport time\nfrom datetime import datetime\nfrom datetime import timedelta",
      "execution_count": 30,
      "outputs": []
    },
    {
      "metadata": {
        "trusted": true
      },
      "cell_type": "code",
      "source": "while True:\n    t_usa=datetime.now()+timedelta(hours=-5)\n    t_india=datetime.now()+timedelta(hours=5,minutes=30)\n    \n    if t_usa.hour==13:\n        sendmail()\n    #time.sleep(1800)\n    break\n",
      "execution_count": 31,
      "outputs": []
    },
    {
      "metadata": {
        "trusted": true
      },
      "cell_type": "code",
      "source": "#https://openweathermap.org/current",
      "execution_count": 24,
      "outputs": []
    },
    {
      "metadata": {
        "trusted": true
      },
      "cell_type": "code",
      "source": "",
      "execution_count": null,
      "outputs": []
    }
  ],
  "metadata": {
    "kernelspec": {
      "name": "python36",
      "display_name": "Python 3.6",
      "language": "python"
    },
    "language_info": {
      "mimetype": "text/x-python",
      "nbconvert_exporter": "python",
      "name": "python",
      "pygments_lexer": "ipython3",
      "version": "3.6.6",
      "file_extension": ".py",
      "codemirror_mode": {
        "version": 3,
        "name": "ipython"
      }
    }
  },
  "nbformat": 4,
  "nbformat_minor": 1
}